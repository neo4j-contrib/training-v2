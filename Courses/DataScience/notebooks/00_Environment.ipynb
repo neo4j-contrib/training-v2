{
 "cells": [
  {
   "cell_type": "markdown",
   "metadata": {
    "colab_type": "text",
    "id": "view-in-github",
    "pycharm": {}
   },
   "source": [
    "<a href=\"https://colab.research.google.com/github/mneedham/data-science-training/blob/master/00_Environment.ipynb\" target=\"_parent\"><img src=\"https://colab.research.google.com/assets/colab-badge.svg\" alt=\"Open In Colab\"/></a>"
   ]
  },
  {
   "cell_type": "markdown",
   "metadata": {
    "pycharm": {}
   },
   "source": [
    "# Setting up your environment\n",
    "\n",
    "In this notebook you will set up the python environment for the course.\n",
    "\n",
    "## Libraries\n",
    "\n",
    "First you will install some libraries that are required for the exercises.\n",
    "\n",
    "Note: When you execute your first command for the notebook you will be asked if you want to reset all runtimes before running.\n",
    "This option should be unticked so you can use your credentials across notebooks.\n",
    "\n",
    "<div align=\"left\">\n",
    "    <img src=\"images/google-colab.png\" alt=\"Google Colabatory\"/>\n",
    "</div>\n",
    "\n",
    "\n",
    "Run this first command in the notebook by clicking the run cell icon to the left of the command: \n"
   ]
  },
  {
   "cell_type": "code",
   "execution_count": null,
   "metadata": {
    "pycharm": {}
   },
   "outputs": [],
   "source": [
    "!pip install py2neo pandas matplotlib sklearn"
   ]
  },
  {
   "cell_type": "markdown",
   "metadata": {
    "pycharm": {}
   },
   "source": [
    "\n",
    "If you see warnings or errors when you run this command, re-run the command. It should run with no errors.\n",
    "\n",
    "Start by importing neo4j library which we use to import the data into Neo4j. It is the official client library and toolkit for working with Neo4j from within Python applications. It is well suited for Data Science workflows and has great integration with other Python Data Science tools. Run this cell:"
   ]
  },
  {
   "cell_type": "code",
   "execution_count": 1,
   "metadata": {
    "pycharm": {}
   },
   "outputs": [],
   "source": [
    "from py2neo import Graph"
   ]
  },
  {
   "cell_type": "markdown",
   "metadata": {
    "pycharm": {}
   },
   "source": [
    "## Sandbox\n",
    "\n",
    "You should already have a Neo4j Citations Sandbox running. Select the arrow to the right of the *Open Neo4j Browser* button for the Citations Sandbox so that you can see the *Connection Details* which include the Bolt URL and Password for the Sandbox.\n"
   ]
  },
  {
   "cell_type": "code",
   "execution_count": 4,
   "metadata": {
    "pycharm": {}
   },
   "outputs": [],
   "source": [
    "# Change the line of code below to use the Bolt URL,  and Password of your Sandbox.\n",
    "# graph = Graph(\"<Bolt URL>\", auth=(\"neo4j\", \"<Password>\")) \n",
    " \n",
    "graph = Graph(\"bolt://52.3.242.176:33698\", auth=(\"neo4j\", \"equivalent-listing-parts\"))"
   ]
  },
  {
   "cell_type": "markdown",
   "metadata": {
    "pycharm": {}
   },
   "source": [
    "\n",
    "If that works fine, and no exceptions are thrown, you have verified that you can connect to the Neo4j Sandbox from your notebook and you are ready to continue with the rest of the course!\n",
    "\n",
    "**Keep this notebook open as you will need to copy the credentials into the other notebooks!**"
   ]
  }
 ],
 "metadata": {
  "kernelspec": {
   "display_name": "scispacy",
   "language": "python",
   "name": "scispacy"
  },
  "language_info": {
   "codemirror_mode": {
    "name": "ipython",
    "version": 3
   },
   "file_extension": ".py",
   "mimetype": "text/x-python",
   "name": "python",
   "nbconvert_exporter": "python",
   "pygments_lexer": "ipython3",
   "version": "3.6.10"
  }
 },
 "nbformat": 4,
 "nbformat_minor": 2
}
