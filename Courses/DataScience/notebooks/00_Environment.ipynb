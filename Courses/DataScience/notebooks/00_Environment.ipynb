{
 "cells": [
  {
   "cell_type": "markdown",
   "metadata": {
    "colab_type": "text",
    "id": "view-in-github",
    "pycharm": {}
   },
   "source": [
    "<a href=\"https://colab.research.google.com/github/mneedham/data-science-training/blob/master/00_Environment.ipynb\" target=\"_parent\"><img src=\"https://colab.research.google.com/assets/colab-badge.svg\" alt=\"Open In Colab\"/></a>"
   ]
  },
  {
   "cell_type": "markdown",
   "metadata": {
    "pycharm": {}
   },
   "source": [
    "# Setting up your environment\n",
    "\n",
    "In this notebook you will set up the python environment for the course.\n",
    "\n",
    "## Libraries\n",
    "\n",
    "First you will install some libraries that are required for the exercises.\n",
    "\n",
    "Note: When you execute your first command for the notebook you will be asked if you want to reset all runtimes before running.\n",
    "This option should be unticked so you can use your credentials across notebooks.\n",
    "\n",
    "<div align=\"left\">\n",
    "    <img src=\"images/google-colab.png\" alt=\"Google Colabatory\"/>\n",
    "</div>\n",
    "\n",
    "\n",
    "Run this first command in the notebook by clicking the run cell icon to the left of the command: \n"
   ]
  },
  {
   "cell_type": "code",
   "execution_count": 5,
   "metadata": {
    "pycharm": {}
   },
   "outputs": [
    {
     "name": "stdout",
     "output_type": "stream",
     "text": [
      "Requirement already satisfied: neo4j in /home/tomaz/anaconda3/lib/python3.7/site-packages (1.7.6)\n",
      "Requirement already satisfied: pandas in /home/tomaz/anaconda3/lib/python3.7/site-packages (0.23.4)\n",
      "Requirement already satisfied: matplotlib in /home/tomaz/anaconda3/lib/python3.7/site-packages (2.2.3)\n",
      "Requirement already satisfied: sklearn in /home/tomaz/anaconda3/lib/python3.7/site-packages (0.0)\n",
      "Requirement already satisfied: neobolt~=1.7.15 in /home/tomaz/anaconda3/lib/python3.7/site-packages (from neo4j) (1.7.17)\n",
      "Collecting neotime~=1.7.1 (from neo4j)\n",
      "  Using cached https://files.pythonhosted.org/packages/0b/7e/ca368a8d8e288be1352d4e2df35da1e01f8aaffbf526695df71630bcb8a6/neotime-1.7.4.tar.gz\n",
      "Requirement already satisfied: python-dateutil>=2.5.0 in /home/tomaz/anaconda3/lib/python3.7/site-packages (from pandas) (2.7.3)\n",
      "Requirement already satisfied: pytz>=2011k in /home/tomaz/anaconda3/lib/python3.7/site-packages (from pandas) (2018.5)\n",
      "Requirement already satisfied: numpy>=1.9.0 in /home/tomaz/anaconda3/lib/python3.7/site-packages (from pandas) (1.15.1)\n",
      "Requirement already satisfied: cycler>=0.10 in /home/tomaz/anaconda3/lib/python3.7/site-packages (from matplotlib) (0.10.0)\n",
      "Requirement already satisfied: pyparsing!=2.0.4,!=2.1.2,!=2.1.6,>=2.0.1 in /home/tomaz/anaconda3/lib/python3.7/site-packages (from matplotlib) (2.2.0)\n",
      "Requirement already satisfied: six>=1.10 in /home/tomaz/anaconda3/lib/python3.7/site-packages (from matplotlib) (1.11.0)\n",
      "Requirement already satisfied: kiwisolver>=1.0.1 in /home/tomaz/anaconda3/lib/python3.7/site-packages (from matplotlib) (1.0.1)\n",
      "Requirement already satisfied: scikit-learn in /home/tomaz/anaconda3/lib/python3.7/site-packages (from sklearn) (0.19.2)\n",
      "Requirement already satisfied: setuptools in /home/tomaz/anaconda3/lib/python3.7/site-packages (from kiwisolver>=1.0.1->matplotlib) (40.2.0)\n",
      "Building wheels for collected packages: neotime\n",
      "\u001b[33m  Building wheel for neotime failed: [Errno 13] Permission denied: '/home/tomaz/.cache/pip/wheels/d4/b4'\u001b[0m\n",
      "Failed to build neotime\n",
      "\u001b[31mtwisted 18.7.0 requires PyHamcrest>=1.9.0, which is not installed.\u001b[0m\n",
      "\u001b[31mpy2neo 4.1.3 has requirement neotime==1.0.0, but you'll have neotime 1.7.4 which is incompatible.\u001b[0m\n",
      "Installing collected packages: neotime\n",
      "  Found existing installation: neotime 1.0.0\n",
      "    Uninstalling neotime-1.0.0:\n",
      "      Successfully uninstalled neotime-1.0.0\n",
      "  Running setup.py install for neotime ... \u001b[?25ldone\n",
      "\u001b[?25hSuccessfully installed neotime-1.7.4\n",
      "\u001b[33mYou are using pip version 10.0.1, however version 20.1 is available.\n",
      "You should consider upgrading via the 'pip install --upgrade pip' command.\u001b[0m\n"
     ]
    }
   ],
   "source": [
    "!pip install py2neo pandas matplotlib sklearn"
   ]
  },
  {
   "cell_type": "markdown",
   "metadata": {
    "pycharm": {}
   },
   "source": [
    "\n",
    "If you see warnings or errors when you run this command, re-run the command. It should run with no errors.\n",
    "\n",
    "Start by importing neo4j library which we use to import the data into Neo4j. It is the official client library and toolkit for working with Neo4j from within Python applications. It is well suited for Data Science workflows and has great integration with other Python Data Science tools. Run this cell:"
   ]
  },
  {
   "cell_type": "code",
   "execution_count": 1,
   "metadata": {
    "pycharm": {}
   },
   "outputs": [],
   "source": [
    "from py2neo import Graph"
   ]
  },
  {
   "cell_type": "markdown",
   "metadata": {
    "pycharm": {}
   },
   "source": [
    "## Sandbox\n",
    "\n",
    "You should already have a Neo4j Citations Sandbox running. Select the arrow to the right of the *Open Neo4j Browser* button for the Citations Sandbox so that you can see the *Connection Details* which include the Bolt URL and Password for the Sandbox.\n"
   ]
  },
  {
   "cell_type": "code",
   "execution_count": 4,
   "metadata": {
    "pycharm": {}
   },
   "outputs": [],
   "source": [
    "# Change the line of code below to use the Bolt URL,  and Password of your Sandbox.\n",
    "# graph = Graph(\"<Bolt URL>\", auth=(\"neo4j\", \"<Password>\")) \n",
    " \n",
    "graph = Graph(\"bolt://52.3.242.176:33698\", auth=(\"neo4j\", \"equivalent-listing-parts\"))"
   ]
  },
  {
   "cell_type": "markdown",
   "metadata": {
    "pycharm": {}
   },
   "source": [
    "\n",
    "If that works fine, and no exceptions are thrown, you have verified that you can connect to the Neo4j Sandbox from your notebook and you are ready to continue with the rest of the course!\n",
    "\n",
    "**Keep this notebook open as you will need to copy the credentials into the other notebooks!**"
   ]
  }
 ],
 "metadata": {
  "kernelspec": {
   "display_name": "scispacy",
   "language": "python",
   "name": "scispacy"
  },
  "language_info": {
   "codemirror_mode": {
    "name": "ipython",
    "version": 3
   },
   "file_extension": ".py",
   "mimetype": "text/x-python",
   "name": "python",
   "nbconvert_exporter": "python",
   "pygments_lexer": "ipython3",
   "version": "3.6.10"
  }
 },
 "nbformat": 4,
 "nbformat_minor": 2
}
