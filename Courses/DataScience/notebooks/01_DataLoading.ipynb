{
 "cells": [
  {
   "cell_type": "markdown",
   "metadata": {
    "colab_type": "text",
    "id": "view-in-github",
    "pycharm": {}
   },
   "source": [
    "<a href=\"https://colab.research.google.com/github/mneedham/data-science-training/blob/master/01_DataLoading.ipynb\" target=\"_parent\"><img src=\"https://colab.research.google.com/assets/colab-badge.svg\" alt=\"Open In Colab\"/></a>"
   ]
  },
  {
   "cell_type": "markdown",
   "metadata": {
    "pycharm": {}
   },
   "source": [
    "# Citation Dataset Loading\n",
    "\n",
    "In this notebook we're going to load the citation dataset into Neo4j.\n",
    "\n",
    "First let's import a couple of Python libraries that will help us with this process."
   ]
  },
  {
   "cell_type": "code",
   "execution_count": null,
   "metadata": {
    "pycharm": {}
   },
   "outputs": [],
   "source": [
    "!pip install py2neo pandas"
   ]
  },
  {
   "cell_type": "markdown",
   "metadata": {
    "pycharm": {}
   },
   "source": [
    "We'll start by importing py2neo library which we'll use to import the data into Neo4j. py2neo is a client library and toolkit for working with Neo4j from within Python applications. It is well suited for Data Science workflows and has great integration with other Python Data Science tools."
   ]
  },
  {
   "cell_type": "code",
   "execution_count": 1,
   "metadata": {
    "pycharm": {}
   },
   "outputs": [],
   "source": [
    "from py2neo import Graph"
   ]
  },
  {
   "cell_type": "code",
   "execution_count": 3,
   "metadata": {
    "pycharm": {},
    "scrolled": true
   },
   "outputs": [],
   "source": [
    "# Change the line of code below to use the IP Address, Bolt Port, and Password of your Sandbox.\n",
    "# graph = Graph(\"bolt://<IP Address>:<Bolt Port>\", auth=(\"neo4j\", \"<Password>\")) \n",
    "\n",
    "# graph = Graph(\"bolt://18.234.168.45:33679\", auth=(\"neo4j\", \"daybreak-cosal-rumbles\")) \n",
    "graph = Graph(\"bolt://localhost\", auth=(\"neo4j\", \"neo\"))"
   ]
  },
  {
   "cell_type": "markdown",
   "metadata": {
    "pycharm": {}
   },
   "source": [
    "## Create Constraints\n",
    "\n",
    "First let's create some constraints to make sure we don't import duplicate data:"
   ]
  },
  {
   "cell_type": "code",
   "execution_count": 4,
   "metadata": {
    "pycharm": {}
   },
   "outputs": [
    {
     "data": {
      "text/plain": [
       "constraints_added: 1\n",
       "constraints_removed: 0\n",
       "contained_updates: True\n",
       "indexes_added: 0\n",
       "indexes_removed: 0\n",
       "labels_added: 0\n",
       "labels_removed: 0\n",
       "nodes_created: 0\n",
       "nodes_deleted: 0\n",
       "properties_set: 0\n",
       "relationships_created: 0\n",
       "relationships_deleted: 0"
      ]
     },
     "metadata": {},
     "output_type": "display_data"
    },
    {
     "data": {
      "text/plain": [
       "constraints_added: 1\n",
       "constraints_removed: 0\n",
       "contained_updates: True\n",
       "indexes_added: 0\n",
       "indexes_removed: 0\n",
       "labels_added: 0\n",
       "labels_removed: 0\n",
       "nodes_created: 0\n",
       "nodes_deleted: 0\n",
       "properties_set: 0\n",
       "relationships_created: 0\n",
       "relationships_deleted: 0"
      ]
     },
     "metadata": {},
     "output_type": "display_data"
    },
    {
     "data": {
      "text/plain": [
       "constraints_added: 1\n",
       "constraints_removed: 0\n",
       "contained_updates: True\n",
       "indexes_added: 0\n",
       "indexes_removed: 0\n",
       "labels_added: 0\n",
       "labels_removed: 0\n",
       "nodes_created: 0\n",
       "nodes_deleted: 0\n",
       "properties_set: 0\n",
       "relationships_created: 0\n",
       "relationships_deleted: 0"
      ]
     },
     "metadata": {},
     "output_type": "display_data"
    }
   ],
   "source": [
    "display(graph.run(\"CREATE CONSTRAINT ON (a:Article) ASSERT a.index IS UNIQUE\").stats())\n",
    "display(graph.run(\"CREATE CONSTRAINT ON (a:Author) ASSERT a.name IS UNIQUE\").stats())\n",
    "display(graph.run(\"CREATE CONSTRAINT ON (v:Venue) ASSERT v.name IS UNIQUE\").stats())"
   ]
  },
  {
   "cell_type": "markdown",
   "metadata": {
    "pycharm": {}
   },
   "source": [
    "## Loading the data\n",
    "\n",
    "Now let's load the data into the database. We'll create nodes for Articles, Venues, and Authors.\n"
   ]
  },
  {
   "cell_type": "code",
   "execution_count": 5,
   "metadata": {
    "pycharm": {}
   },
   "outputs": [
    {
     "data": {
      "text/html": [
       "<div>\n",
       "<style scoped>\n",
       "    .dataframe tbody tr th:only-of-type {\n",
       "        vertical-align: middle;\n",
       "    }\n",
       "\n",
       "    .dataframe tbody tr th {\n",
       "        vertical-align: top;\n",
       "    }\n",
       "\n",
       "    .dataframe thead th {\n",
       "        text-align: right;\n",
       "    }\n",
       "</style>\n",
       "<table border=\"1\" class=\"dataframe\">\n",
       "  <thead>\n",
       "    <tr style=\"text-align: right;\">\n",
       "      <th></th>\n",
       "      <th>batches</th>\n",
       "      <th>total</th>\n",
       "      <th>timeTaken</th>\n",
       "      <th>committedOperations</th>\n",
       "      <th>failedOperations</th>\n",
       "      <th>failedBatches</th>\n",
       "      <th>retries</th>\n",
       "      <th>errorMessages</th>\n",
       "      <th>batch</th>\n",
       "      <th>operations</th>\n",
       "      <th>wasTerminated</th>\n",
       "      <th>failedParams</th>\n",
       "    </tr>\n",
       "  </thead>\n",
       "  <tbody>\n",
       "    <tr>\n",
       "      <th>0</th>\n",
       "      <td>52</td>\n",
       "      <td>51956</td>\n",
       "      <td>42</td>\n",
       "      <td>51956</td>\n",
       "      <td>0</td>\n",
       "      <td>0</td>\n",
       "      <td>0</td>\n",
       "      <td>{}</td>\n",
       "      <td>{'total': 52, 'committed': 52, 'failed': 0, 'e...</td>\n",
       "      <td>{'total': 51956, 'committed': 51956, 'failed':...</td>\n",
       "      <td>False</td>\n",
       "      <td>{}</td>\n",
       "    </tr>\n",
       "  </tbody>\n",
       "</table>\n",
       "</div>"
      ],
      "text/plain": [
       "   batches  total  timeTaken  committedOperations  failedOperations  \\\n",
       "0       52  51956         42                51956                 0   \n",
       "\n",
       "   failedBatches  retries errorMessages  \\\n",
       "0              0        0            {}   \n",
       "\n",
       "                                               batch  \\\n",
       "0  {'total': 52, 'committed': 52, 'failed': 0, 'e...   \n",
       "\n",
       "                                          operations  wasTerminated  \\\n",
       "0  {'total': 51956, 'committed': 51956, 'failed':...          False   \n",
       "\n",
       "  failedParams  \n",
       "0           {}  "
      ]
     },
     "execution_count": 5,
     "metadata": {},
     "output_type": "execute_result"
    }
   ],
   "source": [
    "query = \"\"\"\n",
    "CALL apoc.periodic.iterate(\n",
    "  'UNWIND [\"dblp-ref-0.json\", \"dblp-ref-1.json\", \"dblp-ref-2.json\", \"dblp-ref-3.json\"] AS file\n",
    "   CALL apoc.load.json(\"https://github.com/mneedham/link-prediction/raw/master/data/\" + file)\n",
    "   YIELD value WITH value\n",
    "   return value',\n",
    "  'MERGE (a:Article {index:value.id})\n",
    "   SET a += apoc.map.clean(value,[\"id\",\"authors\",\"references\", \"venue\"],[0])\n",
    "   WITH a, value.authors as authors, value.references AS citations, value.venue AS venue\n",
    "   MERGE (v:Venue {name: venue})\n",
    "   MERGE (a)-[:VENUE]->(v)\n",
    "   FOREACH(author in authors | \n",
    "     MERGE (b:Author{name:author})\n",
    "     MERGE (a)-[:AUTHOR]->(b))\n",
    "   FOREACH(citation in citations | \n",
    "     MERGE (cited:Article {index:citation})\n",
    "     MERGE (a)-[:CITED]->(cited))', \n",
    "   {batchSize: 1000, iterateList: true});\n",
    "\"\"\"\n",
    "graph.run(query).to_data_frame()"
   ]
  },
  {
   "cell_type": "code",
   "execution_count": 6,
   "metadata": {
    "pycharm": {}
   },
   "outputs": [
    {
     "data": {
      "text/plain": [
       "constraints_added: 0\n",
       "constraints_removed: 0\n",
       "contained_updates: True\n",
       "indexes_added: 0\n",
       "indexes_removed: 0\n",
       "labels_added: 0\n",
       "labels_removed: 0\n",
       "nodes_created: 0\n",
       "nodes_deleted: 132357\n",
       "properties_set: 0\n",
       "relationships_created: 0\n",
       "relationships_deleted: 261202"
      ]
     },
     "execution_count": 6,
     "metadata": {},
     "output_type": "execute_result"
    }
   ],
   "source": [
    "query = \"\"\"\n",
    "MATCH (a:Article) WHERE not(exists(a.title))\n",
    "DETACH DELETE a\n",
    "\"\"\"\n",
    "graph.run(query).stats()"
   ]
  },
  {
   "cell_type": "markdown",
   "metadata": {
    "pycharm": {}
   },
   "source": [
    "In the next notebook we'll explore the data that we've imported. "
   ]
  }
 ],
 "metadata": {
  "kernelspec": {
   "display_name": "scispacy",
   "language": "python",
   "name": "scispacy"
  },
  "language_info": {
   "codemirror_mode": {
    "name": "ipython",
    "version": 3
   },
   "file_extension": ".py",
   "mimetype": "text/x-python",
   "name": "python",
   "nbconvert_exporter": "python",
   "pygments_lexer": "ipython3",
   "version": "3.6.10"
  }
 },
 "nbformat": 4,
 "nbformat_minor": 2
}
